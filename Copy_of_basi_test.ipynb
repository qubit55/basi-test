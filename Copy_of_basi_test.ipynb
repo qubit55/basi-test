{
  "nbformat": 4,
  "nbformat_minor": 0,
  "metadata": {
    "colab": {
      "provenance": [],
      "authorship_tag": "ABX9TyMlGAEl5X8bRlhM0/Mrqru/",
      "include_colab_link": true
    },
    "kernelspec": {
      "name": "basilisp",
      "display_name": "Basilisp"
    }
  },
  "cells": [
    {
      "cell_type": "markdown",
      "metadata": {
        "id": "view-in-github",
        "colab_type": "text"
      },
      "source": [
        "<a href=\"https://colab.research.google.com/github/qubit55/basi-test/blob/main/Copy_of_basi_test.ipynb\" target=\"_parent\"><img src=\"https://colab.research.google.com/assets/colab-badge.svg\" alt=\"Open In Colab\"/></a>"
      ]
    },
    {
      "cell_type": "code",
      "execution_count": null,
      "metadata": {
        "collapsed": true,
        "id": "N4Pb1MfKUurb"
      },
      "outputs": [],
      "source": [
        "!pip install basilisp_kernel\n",
        "!mv /etc/ipython/ipython_config.py /etc/ipython/ipython_config.py.dis"
      ]
    },
    {
      "cell_type": "code",
      "source": [
        "(+ 1 1)"
      ],
      "metadata": {
        "id": "kP8FGj4QUyTx"
      },
      "execution_count": null,
      "outputs": []
    },
    {
      "cell_type": "code",
      "source": [
        "(defn foo [x] x)"
      ],
      "metadata": {
        "id": "oXC0-QNTU9pd"
      },
      "execution_count": null,
      "outputs": []
    },
    {
      "cell_type": "code",
      "source": [
        "(foo 1)"
      ],
      "metadata": {
        "id": "EzSYPcDsVCnw"
      },
      "execution_count": null,
      "outputs": []
    },
    {
      "cell_type": "code",
      "source": [
        "(ns my-ns)"
      ],
      "metadata": {
        "id": "6qGwmxW3VDU4"
      },
      "execution_count": null,
      "outputs": []
    },
    {
      "cell_type": "code",
      "source": [
        "(defn foo [x] x)"
      ],
      "metadata": {
        "id": "yAAYlK67VFlu"
      },
      "execution_count": null,
      "outputs": []
    },
    {
      "cell_type": "code",
      "source": [
        "(foo 1)"
      ],
      "metadata": {
        "id": "zzktWwNnVIM9"
      },
      "execution_count": null,
      "outputs": []
    },
    {
      "cell_type": "code",
      "source": [
        "(in-ns 'user)"
      ],
      "metadata": {
        "id": "w0QRQcOAWAtw"
      },
      "execution_count": null,
      "outputs": []
    },
    {
      "cell_type": "code",
      "source": [
        "(defn bar [x] x)"
      ],
      "metadata": {
        "id": "n47I3CtgWJUP"
      },
      "execution_count": null,
      "outputs": []
    },
    {
      "cell_type": "code",
      "source": [
        "(bar \"ankjbn\")"
      ],
      "metadata": {
        "id": "QYfeFCRUWK1c"
      },
      "execution_count": null,
      "outputs": []
    },
    {
      "cell_type": "code",
      "source": [
        "(import [numpy :as np])"
      ],
      "metadata": {
        "id": "Qo2z6O2VWMJS"
      },
      "execution_count": null,
      "outputs": []
    },
    {
      "cell_type": "code",
      "source": [
        "(def x (np.random/rand 100))"
      ],
      "metadata": {
        "colab": {
          "base_uri": "https://localhost:8080/"
        },
        "id": "Kwu4VlH6Zcrc",
        "outputId": "77ba915e-28b1-433d-aade-5818e61fec86"
      },
      "execution_count": null,
      "outputs": [
        {
          "output_type": "execute_result",
          "data": {
            "text/plain": [
              "#'user/x"
            ]
          },
          "metadata": {},
          "execution_count": 55
        }
      ]
    },
    {
      "cell_type": "code",
      "source": [
        "(def y (np.random/rand 100))"
      ],
      "metadata": {
        "colab": {
          "base_uri": "https://localhost:8080/"
        },
        "id": "BG0NOnm1ZgCj",
        "outputId": "8c60a694-a8cd-48c9-c876-16dc5d94a6a6"
      },
      "execution_count": null,
      "outputs": [
        {
          "output_type": "execute_result",
          "data": {
            "text/plain": [
              "#'user/y"
            ]
          },
          "metadata": {},
          "execution_count": 56
        }
      ]
    },
    {
      "cell_type": "code",
      "source": [
        "(np/sin (+ x y))"
      ],
      "metadata": {
        "colab": {
          "base_uri": "https://localhost:8080/"
        },
        "id": "nzHVS2mHZpEK",
        "outputId": "919df303-ab75-474f-bb95-0b7104f131b1"
      },
      "execution_count": null,
      "outputs": [
        {
          "output_type": "execute_result",
          "data": {
            "text/plain": [
              "array([0.98214099, 0.9999609 , 0.93735061, 0.98989919, 0.41026879,\n",
              "       0.4437776 , 0.7834485 , 0.3058566 , 0.61047041, 0.19015075,\n",
              "       0.98612223, 0.93001799, 0.67423356, 0.91738768, 0.89399242,\n",
              "       0.52845254, 0.24398365, 0.90031217, 0.52673516, 0.5894348 ,\n",
              "       0.14996339, 0.60292481, 0.84177951, 0.87804084, 0.85104043,\n",
              "       0.9139669 , 0.98355796, 0.87250174, 0.87283182, 0.85148459,\n",
              "       0.97749651, 0.77564602, 0.72145964, 0.53433392, 0.65405412,\n",
              "       0.99923769, 0.97247579, 0.93614116, 0.40356676, 0.98421778,\n",
              "       0.84900597, 0.92568799, 0.90467875, 0.98587291, 0.97992278,\n",
              "       0.88884991, 0.99037872, 0.50317402, 0.79703617, 0.63048909,\n",
              "       0.27552637, 0.90549417, 0.85988732, 0.84859477, 0.98263195,\n",
              "       0.90861838, 0.98925977, 0.48869798, 0.94394534, 0.95281058,\n",
              "       0.7710485 , 0.8698616 , 0.9595974 , 0.56373413, 0.50299407,\n",
              "       0.3253993 , 0.85783121, 0.99031309, 0.94042007, 0.47988772,\n",
              "       0.9936004 , 0.8899735 , 0.95629941, 0.97509074, 0.84120387,\n",
              "       0.98125945, 0.9916839 , 0.68724408, 0.21549271, 0.99788462,\n",
              "       0.9812105 , 0.71589913, 0.2689723 , 0.90245421, 0.80912979,\n",
              "       0.99942119, 0.26193839, 0.98738968, 0.98693716, 0.52878577,\n",
              "       0.95646867, 0.61102473, 0.95467376, 0.99900409, 0.82002794,\n",
              "       0.91541213, 0.94751545, 0.80470164, 0.53865874, 0.93353026])"
            ]
          },
          "metadata": {},
          "execution_count": 57
        }
      ]
    },
    {
      "cell_type": "code",
      "source": [],
      "metadata": {
        "id": "WQAQmVObZpks"
      },
      "execution_count": null,
      "outputs": []
    }
  ]
}